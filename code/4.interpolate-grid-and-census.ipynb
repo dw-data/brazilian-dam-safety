{
 "cells": [
  {
   "cell_type": "markdown",
   "id": "ef23a971",
   "metadata": {},
   "source": [
    "In order to estimate how many people live near each dam in the country, we will use two data sources: the Statistical Grid and the Census Tracts produced by the the Brazilian Institute of Geopgraphy and Statistics (IBGE)."
   ]
  },
  {
   "cell_type": "markdown",
   "id": "6040f1a5",
   "metadata": {},
   "source": [
    "The statistical grid is the highest resolution datapoint available for measuring the spacial distribution of the population. It's divided in 300m x 300m (urban areas) or 2km x 2km (rural area) squares, each one with an estimate of the population living there."
   ]
  },
  {
   "cell_type": "markdown",
   "id": "b0b67bd6",
   "metadata": {},
   "source": [
    "<div>\n",
    "    <img src=notebook-assets/grid.png width=\"600\">\n",
    "</div>"
   ]
  },
  {
   "cell_type": "markdown",
   "id": "5f72ff99",
   "metadata": {},
   "source": [
    "The census tract differ in shape and size, following the geopolitical divisions of Brazil. Howevert, they also offer plenty of information about of the population that live inside them."
   ]
  },
  {
   "cell_type": "markdown",
   "id": "e8ab1a0d",
   "metadata": {},
   "source": [
    "<img src=\"notebook-assets/tracts.jpg\"><br>"
   ]
  },
  {
   "cell_type": "markdown",
   "id": "2c235d79",
   "metadata": {},
   "source": [
    "We want to make the bost of both worlds: that is, we want to use the statistical grid to measure not only population counts in a very small area, but also the demographics. To do, we will use a technique called [areal weigthed interpolation](https://dges.carleton.ca/CUOSGwiki/index.php/Areal_Interpolation_in_Python_Using_Tobler), which assumes that the characeristics of the population are homogeneous inside each cenus tract."
   ]
  },
  {
   "cell_type": "markdown",
   "id": "7f69abf0",
   "metadata": {},
   "source": [
    "One important caveat: since there is no Census in the country since 2010, both datasets are reflecting a population pattern that is now 12 years old. They are still the most up to date dataset that is available until the next Census, which is set to start on 2022"
   ]
  },
  {
   "cell_type": "markdown",
   "id": "10b2af2b",
   "metadata": {},
   "source": [
    "#### Importing packages"
   ]
  },
  {
   "cell_type": "code",
   "execution_count": 1,
   "id": "33fd666b",
   "metadata": {},
   "outputs": [],
   "source": [
    "import geopandas as gpd\n",
    "import pandas as pd\n",
    "import tobler"
   ]
  },
  {
   "cell_type": "markdown",
   "id": "70d40153",
   "metadata": {},
   "source": [
    "#### Reading census tract data"
   ]
  },
  {
   "cell_type": "markdown",
   "id": "bafe9538",
   "metadata": {},
   "source": [
    "The census tract data was already parsed in the notebooks `1`, `2` and `3` in this repository. We will simply read them in."
   ]
  },
  {
   "cell_type": "code",
   "execution_count": 2,
   "id": "e142d8fc",
   "metadata": {},
   "outputs": [],
   "source": [
    "tracts = gpd.read_file(\"../data/brazil/censo/combined/combined.gpkg\")"
   ]
  },
  {
   "cell_type": "markdown",
   "id": "bf31d4ba",
   "metadata": {},
   "source": [
    "#### Reading statistical grid data\n",
    "The statistical grid, for all it's granularity, is too big and too heavy to handle at once. To make up for this, IBGE divided it into many smaller files divided as shown in the following image:"
   ]
  },
  {
   "cell_type": "markdown",
   "id": "32213fcd",
   "metadata": {},
   "source": [
    "<img src='notebook-assets/articulacao.jpg'> "
   ]
  },
  {
   "cell_type": "markdown",
   "id": "69bacce0",
   "metadata": {},
   "source": [
    " Instead of reading it all into memory, we will define a function that reads one of those at each time and call it as needed."
   ]
  },
  {
   "cell_type": "code",
   "execution_count": 3,
   "id": "c9ae54d9",
   "metadata": {},
   "outputs": [],
   "source": [
    "def read_grid(id_):\n",
    "    '''\n",
    "    Reads and combines the population grids\n",
    "    specified in the ids list into a single\n",
    "    GeoDataFrame\n",
    "    ---\n",
    "    Parameters:\n",
    "    \n",
    "    ids -> A numerical id for the grids that should be read\n",
    "    '''\n",
    "    \n",
    "    gdfs = []\n",
    "    \n",
    "    gdf = gpd.read_file(f\"zip://../data/brazil/grade/grade_id{id_}.zip\")\n",
    "        \n",
    "    return gdf\n",
    "        "
   ]
  },
  {
   "cell_type": "code",
   "execution_count": 6,
   "id": "2358291b",
   "metadata": {},
   "outputs": [],
   "source": [
    "grid = read_grid('04')"
   ]
  },
  {
   "cell_type": "markdown",
   "id": "77a807b0",
   "metadata": {},
   "source": [
    "Now we can call upon tobler to derive detailed population metrics for each one of the squares. "
   ]
  },
  {
   "cell_type": "code",
   "execution_count": 8,
   "id": "b97ea8b4",
   "metadata": {},
   "outputs": [
    {
     "name": "stderr",
     "output_type": "stream",
     "text": [
      "/Users/menegat/opt/anaconda3/envs/dams/lib/python3.7/site-packages/ipykernel_launcher.py:3: UserWarning: Geometry is in a geographic CRS. Results from 'area' are likely incorrect. Use 'GeoSeries.to_crs()' to re-project geometries to a projected CRS before this operation.\n",
      "\n",
      "  This is separate from the ipykernel package so we can avoid doing imports until\n"
     ]
    }
   ],
   "source": [
    "interp = tobler.area_weighted.area_interpolate(source_df=tracts, \n",
    "                                                        target_df=grid,\n",
    "                                                        extensive_variables=['total_residents'])"
   ]
  },
  {
   "cell_type": "code",
   "execution_count": 11,
   "id": "7b6a2736",
   "metadata": {},
   "outputs": [
    {
     "data": {
      "text/plain": [
       "1145.0354192382656"
      ]
     },
     "execution_count": 11,
     "metadata": {},
     "output_type": "execute_result"
    }
   ],
   "source": [
    "interp.total_residents.max()"
   ]
  },
  {
   "cell_type": "code",
   "execution_count": null,
   "id": "44cd5dbb",
   "metadata": {},
   "outputs": [],
   "source": []
  }
 ],
 "metadata": {
  "kernelspec": {
   "display_name": "Python 3 (ipykernel)",
   "language": "python",
   "name": "python3"
  },
  "language_info": {
   "codemirror_mode": {
    "name": "ipython",
    "version": 3
   },
   "file_extension": ".py",
   "mimetype": "text/x-python",
   "name": "python",
   "nbconvert_exporter": "python",
   "pygments_lexer": "ipython3",
   "version": "3.7.11"
  }
 },
 "nbformat": 4,
 "nbformat_minor": 5
}
