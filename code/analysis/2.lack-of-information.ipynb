{
 "cells": [
  {
   "cell_type": "markdown",
   "id": "5f3397db",
   "metadata": {},
   "source": [
    "Here, we try do determine how complete is the data for the SNISB dataset and to estimate how compliant with the national safety procols the dams are."
   ]
  },
  {
   "cell_type": "code",
   "execution_count": 1,
   "id": "477bb214",
   "metadata": {},
   "outputs": [],
   "source": [
    "import geopandas as gpd\n",
    "import pandas as pd\n",
    "import numpy as np\n",
    "from unidecode import unidecode\n",
    "from shapely.geometry import Point\n",
    "import warnings; warnings.filterwarnings('ignore', message='.*initial implementation of Parquet.*')"
   ]
  },
  {
   "cell_type": "code",
   "execution_count": 2,
   "id": "417db155",
   "metadata": {},
   "outputs": [],
   "source": [
    "def read_dams():\n",
    "    '''\n",
    "    Reads the dam safety dataset using\n",
    "    the appropriate configurations.\n",
    "    '''\n",
    "\n",
    "    dams = pd.read_csv(\"../../data/brazil/snisb/dam-report-07022021.csv\", encoding='Latin5', sep=';', skiprows=[0,1])\n",
    "\n",
    "    return dams\n",
    "\n",
    "\n",
    "def make_gdf(df):\n",
    "    '''\n",
    "    Converts the dataframe to a geodaframe\n",
    "    using the columns Longitude and Latitude\n",
    "    ---\n",
    "    Parameters:\n",
    "    \n",
    "    df -> The dam safety dataframe\n",
    "    '''\n",
    "\n",
    "    df['geometry'] = df.apply(lambda row: Point(row.longitude, row.latitude), axis=1)\n",
    "\n",
    "    df = gpd.GeoDataFrame(df)\n",
    "\n",
    "    return df\n",
    "\n",
    "\n",
    "def crs_to_area(gdf):\n",
    "    '''\n",
    "    Converts the CRS for equal\n",
    "    area calculations.\n",
    "    ---\n",
    "\n",
    "    Parameters:\n",
    "\n",
    "    gdf -> A geodataframe\n",
    "    '''\n",
    "\n",
    "    return gdf.to_crs('''PROJCS[\"Brasil_Albers_Equal_Area\",GEOGCS[\"GCS_WGS_1984\",DATUM[\"D_SIRGAS_2000\",SPHEROID[\"GRS_1980\",6378137.0,298.257222101]],PRIMEM[\"Greenwich\",0.0],UNIT[\"Degree\",0.0174532925199433]],PROJECTION[\"Albers\"],PARAMETER[\"false_easting\",5000000.0],PARAMETER[\"false_northing\",10000000.0],PARAMETER[\"central_meridian\",-54.0],PARAMETER[\"standard_parallel_1\",-2.0],PARAMETER[\"standard_parallel_2\",-22.0],PARAMETER[\"latitude_of_origin\",-12.0],UNIT[\"Meter\",1.0]]''')\n",
    "\n",
    "def crs_to_coords(gdf):\n",
    "    '''\n",
    "    Converts the CRS of the geodataframe\n",
    "    to the Brazilian standard for geogra-\n",
    "    phic projections.\n",
    "    ---\n",
    "    Parameters:\n",
    "\n",
    "    gdf -> A geodataframe\n",
    "    '''\n",
    "\n",
    "    return gdf.to_crs(\"EPSG:4674\")\n",
    "\n",
    "def standardize_columns(df):\n",
    "    '''\n",
    "    Remove special characters from the column\n",
    "    names and makes them all lowercase. \n",
    "    ---\n",
    "    Parameters:\n",
    "\n",
    "    df -> The dam safety dataframe\n",
    "    '''\n",
    "\n",
    "    df.columns = df.columns.map(unidecode)\n",
    "\n",
    "    df.columns = df.columns.map(lambda x: x.lower())\n",
    "\n",
    "    df.columns = df.columns.map(lambda x: x.strip())\n",
    "\n",
    "    return df\n",
    "\n",
    "def fix_separators(df):\n",
    "    '''\n",
    "    The Latitude and Longitude columns in the dataframe\n",
    "    are currently stored as strings with a ',' as the decimal\n",
    "    separator. This function changes the separator to '.' and\n",
    "    casts it to float.\n",
    "    ---\n",
    "    Parameters:\n",
    "\n",
    "    df -> The dam safety dataframe\n",
    "    '''\n",
    "\n",
    "    df.latitude = df.latitude.str.replace(\",\", \".\").astype(float)\n",
    "\n",
    "    df.longitude = df.longitude.str.replace(\",\", \".\").astype(float)\n",
    "\n",
    "    df.capacidade_hm3 = df.capacidade_hm3.str.replace(\",\", \".\").astype(float)\n",
    "\n",
    "    return df\n",
    "\n",
    "def classify_risky_dams(df):\n",
    "    '''\n",
    "    Marks the dams that have both a\n",
    "    high risk category and a high\n",
    "    potential damage so we can proceed \n",
    "    in the analysis.\n",
    "    ---\n",
    "    Parameters:\n",
    "\n",
    "    df -> The dam safety dataframe\n",
    "    '''\n",
    "\n",
    "    condition = (df.categoria_de_risco == 'Alto') & (df.dano_potencial_associado == 'Alto')\n",
    "\n",
    "    df['high_risk_high_damage'] = np.where(condition, True, False)\n",
    "\n",
    "    return df\n",
    "\n",
    "\n",
    "def create_buffer(gdf, r):\n",
    "    '''\n",
    "    Creates a buffer around the\n",
    "    geometries of the given gdf\n",
    "    with a r radius.\n",
    "    '''\n",
    "\n",
    "    gdf.geometry = gdf.geometry.buffer(r)    \n",
    "\n",
    "    return gdf\n",
    "\n"
   ]
  },
  {
   "cell_type": "code",
   "execution_count": 3,
   "id": "c306d523",
   "metadata": {},
   "outputs": [],
   "source": [
    "def get_dams():\n",
    "    '''\n",
    "    Runs all the functions to prepare\n",
    "    the dam safety dataset sequentially.\n",
    "    \n",
    "    NOTICE THAT IN THIS SCRIPT WE ARE NOT\n",
    "    MASKING OUT THE LOW RISK DAMS AND\n",
    "    ARE NOT CREATING BUFFERS AROUND THE\n",
    "    POINTS.\n",
    "    '''\n",
    "    \n",
    "    dams = read_dams()\n",
    "    dams = standardize_columns(dams)\n",
    "    dams = fix_separators(dams)\n",
    "    dams = make_gdf(dams)\n",
    "    dams = classify_risky_dams(dams)\n",
    "    #dams = dams[dams.high_risk_high_damage] # selects using boolean mask\n",
    "    dams = dams.set_crs(\"EPSG:4674\") # Brazilian standard projection\n",
    "    dams = crs_to_area(dams)\n",
    "    #dams = create_buffer(dams, 1000)\n",
    "    \n",
    "    return dams"
   ]
  },
  {
   "cell_type": "code",
   "execution_count": 4,
   "id": "28ec4024",
   "metadata": {},
   "outputs": [],
   "source": [
    "# On the first run, save as feather\n",
    "# for quicker loading later\n",
    "\n",
    "# dams = get_dams()\n",
    "# dams.to_feather(\"../../data/brazil/snisb/all-dams-clean.feather\")"
   ]
  },
  {
   "cell_type": "code",
   "execution_count": 5,
   "id": "a33e126e",
   "metadata": {},
   "outputs": [],
   "source": [
    "dams = gpd.read_feather(\"../../data/brazil/snisb/all-dams-clean.feather\")"
   ]
  },
  {
   "cell_type": "markdown",
   "id": "a3f18074",
   "metadata": {},
   "source": [
    "Of all dams, how many are in which level of information completude?"
   ]
  },
  {
   "cell_type": "code",
   "execution_count": 6,
   "id": "bb6dc8c2",
   "metadata": {},
   "outputs": [
    {
     "data": {
      "text/plain": [
       "mínima    0.581805\n",
       "ótima     0.156465\n",
       "boa       0.101429\n",
       "baixa     0.082069\n",
       "média     0.078232\n",
       "Name: completude, dtype: float64"
      ]
     },
     "execution_count": 6,
     "metadata": {},
     "output_type": "execute_result"
    }
   ],
   "source": [
    "dams.completude.value_counts(normalize=True)"
   ]
  },
  {
   "cell_type": "markdown",
   "id": "d42d3469",
   "metadata": {},
   "source": [
    "And of the high risk, high potential damage dams?"
   ]
  },
  {
   "cell_type": "code",
   "execution_count": 7,
   "id": "fc5a1b48",
   "metadata": {},
   "outputs": [
    {
     "data": {
      "text/plain": [
       "baixa     0.333607\n",
       "boa       0.326230\n",
       "mínima    0.295082\n",
       "ótima     0.045082\n",
       "Name: completude, dtype: float64"
      ]
     },
     "execution_count": 7,
     "metadata": {},
     "output_type": "execute_result"
    }
   ],
   "source": [
    "dams[(dams.high_risk_high_damage)].completude.value_counts(normalize=True)"
   ]
  },
  {
   "cell_type": "markdown",
   "id": "0019cc6b",
   "metadata": {},
   "source": [
    "How many dams are regulated by the PNSB?"
   ]
  },
  {
   "cell_type": "code",
   "execution_count": 8,
   "id": "839eff85",
   "metadata": {},
   "outputs": [
    {
     "data": {
      "text/plain": [
       "Não Classificada    12884\n",
       "Sim                  5489\n",
       "Não                  4303\n",
       "Name: regulada_pela_pnsb, dtype: int64"
      ]
     },
     "execution_count": 8,
     "metadata": {},
     "output_type": "execute_result"
    }
   ],
   "source": [
    "dams.regulada_pela_pnsb.value_counts()"
   ]
  },
  {
   "cell_type": "code",
   "execution_count": 9,
   "id": "0e1c00d9",
   "metadata": {},
   "outputs": [
    {
     "data": {
      "text/plain": [
       "Não Classificada    0.568178\n",
       "Sim                 0.242062\n",
       "Não                 0.189760\n",
       "Name: regulada_pela_pnsb, dtype: float64"
      ]
     },
     "execution_count": 9,
     "metadata": {},
     "output_type": "execute_result"
    }
   ],
   "source": [
    "dams.regulada_pela_pnsb.value_counts(normalize=True)"
   ]
  },
  {
   "cell_type": "markdown",
   "id": "b71e30ff",
   "metadata": {},
   "source": [
    "Of the dams regulated by the PNSB, the national dam safety policy, how many do have a safety plan?"
   ]
  },
  {
   "cell_type": "code",
   "execution_count": 10,
   "id": "40fa1baf",
   "metadata": {},
   "outputs": [
    {
     "data": {
      "text/plain": [
       "Não    0.737293\n",
       "Sim    0.262707\n",
       "Name: possui_plano_de_seguranassa, dtype: float64"
      ]
     },
     "execution_count": 10,
     "metadata": {},
     "output_type": "execute_result"
    }
   ],
   "source": [
    "dams[(dams.regulada_pela_pnsb=='Sim')].possui_plano_de_seguranassa.value_counts(normalize=True)"
   ]
  },
  {
   "cell_type": "markdown",
   "id": "f7d73c61",
   "metadata": {},
   "source": [
    "Of the dams regulated by the PNSB, how many are high risk and high potential damage?"
   ]
  },
  {
   "cell_type": "code",
   "execution_count": 11,
   "id": "49d0315f",
   "metadata": {},
   "outputs": [
    {
     "data": {
      "text/plain": [
       "False    0.777737\n",
       "True     0.222263\n",
       "Name: high_risk_high_damage, dtype: float64"
      ]
     },
     "execution_count": 11,
     "metadata": {},
     "output_type": "execute_result"
    }
   ],
   "source": [
    "dams[(dams.regulada_pela_pnsb=='Sim')].high_risk_high_damage.value_counts(normalize=True)"
   ]
  },
  {
   "cell_type": "code",
   "execution_count": 12,
   "id": "579d5c9e",
   "metadata": {},
   "outputs": [
    {
     "data": {
      "text/plain": [
       "Alto                0.678630\n",
       "Médio               0.198397\n",
       "Baixo               0.061942\n",
       "Não Classificado    0.061031\n",
       "Name: dano_potencial_associado, dtype: float64"
      ]
     },
     "execution_count": 12,
     "metadata": {},
     "output_type": "execute_result"
    }
   ],
   "source": [
    "dams[(dams.regulada_pela_pnsb=='Sim')].dano_potencial_associado.value_counts(normalize=True)"
   ]
  },
  {
   "cell_type": "markdown",
   "id": "d8c062a6",
   "metadata": {},
   "source": [
    "Of the dams that should have an emergency plan, how many do?"
   ]
  },
  {
   "cell_type": "code",
   "execution_count": 13,
   "id": "cf070e83",
   "metadata": {},
   "outputs": [
    {
     "data": {
      "text/plain": [
       "Sim    0.536082\n",
       "Não    0.463918\n",
       "Name: possui_pae, dtype: float64"
      ]
     },
     "execution_count": 13,
     "metadata": {},
     "output_type": "execute_result"
    }
   ],
   "source": [
    "dams[dams.dano_potencial_associado==\"Alto\"].possui_pae.value_counts(normalize=True)"
   ]
  },
  {
   "cell_type": "markdown",
   "id": "83deadc2",
   "metadata": {},
   "source": [
    "How many dams have a known responsible person?"
   ]
  },
  {
   "cell_type": "code",
   "execution_count": 14,
   "id": "e0a309c9",
   "metadata": {},
   "outputs": [
    {
     "data": {
      "text/plain": [
       "False    0.50516\n",
       "True     0.49484\n",
       "Name: nome_do_empreendedor, dtype: float64"
      ]
     },
     "execution_count": 14,
     "metadata": {},
     "output_type": "execute_result"
    }
   ],
   "source": [
    "dams.nome_do_empreendedor.isna().value_counts(normalize=True)"
   ]
  },
  {
   "cell_type": "markdown",
   "id": "8fe458df",
   "metadata": {},
   "source": [
    "How many of the dangerous dams have a known date of last inspection?"
   ]
  },
  {
   "cell_type": "code",
   "execution_count": 15,
   "id": "a5d870a6",
   "metadata": {},
   "outputs": [
    {
     "data": {
      "text/plain": [
       "True     0.863115\n",
       "False    0.136885\n",
       "Name: data_da_ultima_inspecao, dtype: float64"
      ]
     },
     "execution_count": 15,
     "metadata": {},
     "output_type": "execute_result"
    }
   ],
   "source": [
    "dams[dams.high_risk_high_damage].data_da_ultima_inspecao.isna().value_counts(normalize=True)"
   ]
  },
  {
   "cell_type": "code",
   "execution_count": 16,
   "id": "31ed5a5c",
   "metadata": {},
   "outputs": [
    {
     "data": {
      "text/plain": [
       "True     0.817718\n",
       "False    0.182282\n",
       "Name: data_da_ultima_inspecao, dtype: float64"
      ]
     },
     "execution_count": 16,
     "metadata": {},
     "output_type": "execute_result"
    }
   ],
   "source": [
    "dams[(dams.regulada_pela_pnsb==\"Sim\") & (dams.dano_potencial_associado==\"Alto\")].data_da_ultima_inspecao.isna().value_counts(normalize=True)"
   ]
  },
  {
   "cell_type": "markdown",
   "id": "3e1087e9",
   "metadata": {},
   "source": [
    "How many dams are fully compliant regarding the safety and emergency action plans?"
   ]
  },
  {
   "cell_type": "code",
   "execution_count": 20,
   "id": "6ad89975",
   "metadata": {},
   "outputs": [
    {
     "data": {
      "text/plain": [
       "False    4137\n",
       "True     1352\n",
       "Name: compliant, dtype: int64"
      ]
     },
     "metadata": {},
     "output_type": "display_data"
    },
    {
     "data": {
      "text/plain": [
       "False    0.753689\n",
       "True     0.246311\n",
       "Name: compliant, dtype: float64"
      ]
     },
     "metadata": {},
     "output_type": "display_data"
    }
   ],
   "source": [
    "#Which dams have both the safety plan and emergency plan requirements fullfiled?\n",
    "condition = (dams.regulada_pela_pnsb==\"Sim\") & (dams.possui_plano_de_seguranassa==\"Sim\") & ( \n",
    "     ((dams.dano_potencial_associado==\"Alto\") & (dams.possui_pae==\"Sim\")) | (dams.dano_potencial_associado!=\"Alto\")\n",
    ")\n",
    "\n",
    "pnsb_dams = dams[dams.regulada_pela_pnsb==\"Sim\"]\n",
    "\n",
    "    \n",
    "pnsb_dams['compliant'] = condition\n",
    "\n",
    "display(pnsb_dams.compliant.value_counts())\n",
    "display(pnsb_dams.compliant.value_counts(normalize=True))"
   ]
  }
 ],
 "metadata": {
  "kernelspec": {
   "display_name": "Python 3 (ipykernel)",
   "language": "python",
   "name": "python3"
  },
  "language_info": {
   "codemirror_mode": {
    "name": "ipython",
    "version": 3
   },
   "file_extension": ".py",
   "mimetype": "text/x-python",
   "name": "python",
   "nbconvert_exporter": "python",
   "pygments_lexer": "ipython3",
   "version": "3.7.11"
  }
 },
 "nbformat": 4,
 "nbformat_minor": 5
}
