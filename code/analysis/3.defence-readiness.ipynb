{
 "cells": [
  {
   "cell_type": "markdown",
   "id": "25629164",
   "metadata": {},
   "source": [
    "Are the cities that have dangerous dams on their territories ready to tackle an emergency quickly enough? Do they have dedicated rescue and disaster respose teams?\n"
   ]
  },
  {
   "cell_type": "code",
   "execution_count": 1,
   "id": "d3a0765f",
   "metadata": {},
   "outputs": [],
   "source": [
    "import geopandas as gpd\n",
    "import pandas as pd\n",
    "import warnings; warnings.filterwarnings('ignore', message='.*initial implementation of Parquet.*')"
   ]
  },
  {
   "cell_type": "code",
   "execution_count": 2,
   "id": "7327eb1e",
   "metadata": {},
   "outputs": [],
   "source": [
    "# Data on the existence of disaster response teams, compiled by the IBGE\n",
    "munic = pd.read_excel(\"../../data/brazil/munic/Base_MUNIC_2020.xlsx\", sheet_name='Gestão de riscos')"
   ]
  },
  {
   "cell_type": "code",
   "execution_count": 3,
   "id": "5b1f47d4",
   "metadata": {},
   "outputs": [],
   "source": [
    "# Our columns of interest are:\n",
    "# MGRD211 – has firefighters?\n",
    "# MGRD212 – has municipal civil defense?\n",
    "# MGRD213 – has voluntary municipal civil defense?\n",
    "# MGRD214 – has municipal guards?\n",
    "munic = munic[['CodMun', 'Mgrd211', 'Mgrd212', 'Mgrd213', 'Mgrd214']]\n",
    "\n",
    "munic = munic.rename(columns={\n",
    "    'CodMun':'code_muni',\n",
    "    'Mgrd211': 'tem_bombeiros',\n",
    "    'Mgrd212': 'tem_orgao_defesa_civil',\n",
    "    'Mgrd213': 'tem_defesa_civil_voluntaria',\n",
    "    'Mgrd214': 'tem_guarda_municipal',\n",
    "})"
   ]
  },
  {
   "cell_type": "code",
   "execution_count": 4,
   "id": "82d2ccb1",
   "metadata": {},
   "outputs": [],
   "source": [
    "# Id code should have six digits\n",
    "munic[\"code_muni\"] = munic.code_muni.astype(str).str.slice(0, -1)"
   ]
  },
  {
   "cell_type": "code",
   "execution_count": 5,
   "id": "86c8b9b5",
   "metadata": {},
   "outputs": [],
   "source": [
    "# Data on the cities near dangerous dams\n",
    "cities = gpd.read_feather(\"../../data/brazil/near-dam-ratios/pop-near-dangerous-dams-by-city.feather\")"
   ]
  },
  {
   "cell_type": "code",
   "execution_count": 6,
   "id": "802e2cca",
   "metadata": {},
   "outputs": [],
   "source": [
    "# Join the datasets\n",
    "cities = cities.merge(munic, on='code_muni', how='inner')"
   ]
  },
  {
   "cell_type": "code",
   "execution_count": 7,
   "id": "82d1f324",
   "metadata": {},
   "outputs": [
    {
     "data": {
      "text/plain": [
       "122426"
      ]
     },
     "execution_count": 7,
     "metadata": {},
     "output_type": "execute_result"
    }
   ],
   "source": [
    "# People living near a dangerous dam in a city without civil defense\n",
    "cities[cities.tem_orgao_defesa_civil==\"Não\"].people_near_dangerous_dams.sum()"
   ]
  },
  {
   "cell_type": "code",
   "execution_count": 8,
   "id": "196e4987",
   "metadata": {},
   "outputs": [
    {
     "data": {
      "text/plain": [
       "Sim       0.810638\n",
       "Não       0.182979\n",
       "Recusa    0.006383\n",
       "Name: tem_orgao_defesa_civil, dtype: float64"
      ]
     },
     "execution_count": 8,
     "metadata": {},
     "output_type": "execute_result"
    }
   ],
   "source": [
    "# What about the number of cities in the northeast that don't have civil defense bodies?\n",
    "cities[cities.name_region=='Nordeste'].tem_orgao_defesa_civil.value_counts(normalize=True)"
   ]
  },
  {
   "cell_type": "code",
   "execution_count": 9,
   "id": "fec69363",
   "metadata": {},
   "outputs": [
    {
     "data": {
      "text/plain": [
       "Sim       381\n",
       "Não        86\n",
       "Recusa      3\n",
       "Name: tem_orgao_defesa_civil, dtype: int64"
      ]
     },
     "execution_count": 9,
     "metadata": {},
     "output_type": "execute_result"
    }
   ],
   "source": [
    "cities[cities.name_region=='Nordeste'].tem_orgao_defesa_civil.value_counts()"
   ]
  },
  {
   "cell_type": "code",
   "execution_count": 10,
   "id": "505064f6",
   "metadata": {},
   "outputs": [
    {
     "data": {
      "text/plain": [
       "68648"
      ]
     },
     "execution_count": 10,
     "metadata": {},
     "output_type": "execute_result"
    }
   ],
   "source": [
    "# How many people live there?\n",
    "# People living near a dangerous dam in a city without civil defense\n",
    "cities[(cities.name_region=='Nordeste') & (cities.tem_orgao_defesa_civil==\"Não\")].people_near_dangerous_dams.sum()"
   ]
  }
 ],
 "metadata": {
  "kernelspec": {
   "display_name": "Python 3 (ipykernel)",
   "language": "python",
   "name": "python3"
  },
  "language_info": {
   "codemirror_mode": {
    "name": "ipython",
    "version": 3
   },
   "file_extension": ".py",
   "mimetype": "text/x-python",
   "name": "python",
   "nbconvert_exporter": "python",
   "pygments_lexer": "ipython3",
   "version": "3.7.11"
  }
 },
 "nbformat": 4,
 "nbformat_minor": 5
}
