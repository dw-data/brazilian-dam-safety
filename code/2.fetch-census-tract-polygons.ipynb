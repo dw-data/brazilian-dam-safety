{
 "cells": [
  {
   "cell_type": "markdown",
   "id": "016a2fbc",
   "metadata": {},
   "source": [
    "This script will download the Brazilian 2010 Census data from a geopatial package called `geobr` and save it locally for convenience."
   ]
  },
  {
   "cell_type": "code",
   "execution_count": 1,
   "id": "14f0b37c",
   "metadata": {},
   "outputs": [],
   "source": [
    "import geobr"
   ]
  },
  {
   "cell_type": "code",
   "execution_count": 2,
   "id": "dd4bf58c",
   "metadata": {},
   "outputs": [],
   "source": [
    "tracts = geobr.read_census_tract(code_tract='all', year=2010)"
   ]
  },
  {
   "cell_type": "code",
   "execution_count": 3,
   "id": "41253b7f",
   "metadata": {},
   "outputs": [],
   "source": [
    "tracts.to_file(\"../data/brazil/censo/malha/setores.gpkg\", driver=\"GPKG\")"
   ]
  }
 ],
 "metadata": {
  "kernelspec": {
   "display_name": "Python 3 (ipykernel)",
   "language": "python",
   "name": "python3"
  },
  "language_info": {
   "codemirror_mode": {
    "name": "ipython",
    "version": 3
   },
   "file_extension": ".py",
   "mimetype": "text/x-python",
   "name": "python",
   "nbconvert_exporter": "python",
   "pygments_lexer": "ipython3",
   "version": "3.7.11"
  }
 },
 "nbformat": 4,
 "nbformat_minor": 5
}
