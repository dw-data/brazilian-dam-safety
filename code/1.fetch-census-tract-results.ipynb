{
 "cells": [
  {
   "cell_type": "markdown",
   "id": "e3c531c3",
   "metadata": {},
   "source": [
    "This script will be used to acess and parse the Brazilian Census Data. It used the data lakes provided by [Base dos Dados](https://basedosdados.org/dataset/br-ibge-censo-demografico), a non-profit organization that cleans and offers easier access to Brazilian public datasets."
   ]
  },
  {
   "cell_type": "code",
   "execution_count": 1,
   "id": "6ab956ce",
   "metadata": {},
   "outputs": [],
   "source": [
    "import basedosdados as bd\n",
    "BILLING_ID = \"setor-censitario\""
   ]
  },
  {
   "cell_type": "markdown",
   "id": "55a1d202",
   "metadata": {},
   "source": [
    "The function below downloads census tract information and saves it as a CSV file containing information for all the tracts in the country."
   ]
  },
  {
   "cell_type": "code",
   "execution_count": 2,
   "id": "97f56c37",
   "metadata": {},
   "outputs": [],
   "source": [
    "def read_table(dataset_id, table_id, billing_project_id):\n",
    "    '''\n",
    "    Reads data from the specified BD's dataset and table\n",
    "    into a pandas DataFrame and returns it.\n",
    "    ---\n",
    "    Parameters:\n",
    "    \n",
    "    dataset_id -> string identifying the dataset name at the datalke\n",
    "    table_id -> string identifying the specific table we want to download\n",
    "    billing_project_id -> string indetifying the name of the Google Cloud Platform\n",
    "    project associated with yout account\n",
    "    '''\n",
    "    \n",
    "    df = bd.read_table(dataset_id=dataset_id, \n",
    "                        table_id=table_id,\n",
    "                        billing_project_id=billing_project_id)\n",
    "    \n",
    "    df.to_csv(f\"../data/brazil/censo/resultados/{table_id}.csv\")"
   ]
  },
  {
   "cell_type": "markdown",
   "id": "224a18ff",
   "metadata": {},
   "source": [
    "We will download many different files, each one concerning one specific set of variables."
   ]
  },
  {
   "cell_type": "code",
   "execution_count": 3,
   "id": "f6ed835b",
   "metadata": {},
   "outputs": [],
   "source": [
    "def main():\n",
    "    \n",
    "    # Basic data, race data, gender data, income data, illiteracy data\n",
    "    table_ids = [\n",
    "                    \"setor_censitario_basico_2010\", \n",
    "                    \"setor_censitario_raca_idade_genero_2010\",\n",
    "                    \"setor_censitario_domicilio_renda_2010\",\n",
    "                    \"setor_censitario_alfabetizacao_total_2010\",\n",
    "                ]\n",
    "    \n",
    "    for table_id in table_ids:\n",
    "        read_table('br_ibge_censo_demografico', table_id, BILLING_ID)"
   ]
  },
  {
   "cell_type": "code",
   "execution_count": 4,
   "id": "d1ca960f",
   "metadata": {},
   "outputs": [
    {
     "name": "stderr",
     "output_type": "stream",
     "text": [
      "Downloading: 100%|██████████████████| 310120/310120 [01:41<00:00, 3055.62rows/s]\n",
      "Downloading: 100%|███████████████████| 310120/310120 [11:37<00:00, 444.75rows/s]\n",
      "Downloading: 100%|██████████████████| 310120/310120 [01:00<00:00, 5155.06rows/s]\n",
      "Downloading: 100%|██████████████████| 310120/310120 [04:33<00:00, 1132.42rows/s]\n"
     ]
    }
   ],
   "source": [
    "if __name__ == \"__main__\":\n",
    "    main()"
   ]
  }
 ],
 "metadata": {
  "kernelspec": {
   "display_name": "Python 3 (ipykernel)",
   "language": "python",
   "name": "python3"
  },
  "language_info": {
   "codemirror_mode": {
    "name": "ipython",
    "version": 3
   },
   "file_extension": ".py",
   "mimetype": "text/x-python",
   "name": "python",
   "nbconvert_exporter": "python",
   "pygments_lexer": "ipython3",
   "version": "3.7.11"
  }
 },
 "nbformat": 4,
 "nbformat_minor": 5
}
