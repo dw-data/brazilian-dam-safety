{
 "cells": [
  {
   "cell_type": "markdown",
   "id": "a2fd8138",
   "metadata": {},
   "source": [
    "This script will read all the files from the IBGE's statistical grid and save them on feather format for quicker reading times later on.\n"
   ]
  },
  {
   "cell_type": "code",
   "execution_count": 1,
   "id": "60d66a96",
   "metadata": {},
   "outputs": [],
   "source": [
    "import geopandas as gpd\n",
    "import glob\n",
    "import re\n",
    "import warnings; warnings.filterwarnings('ignore', message='.*initial implementation of Parquet.*')"
   ]
  },
  {
   "cell_type": "code",
   "execution_count": 2,
   "id": "964ff2df",
   "metadata": {},
   "outputs": [],
   "source": [
    "def read_grid(id_):\n",
    "    '''\n",
    "    Reads and combines the population grids\n",
    "    specified in the ids list into a single\n",
    "    GeoDataFrame\n",
    "    ---\n",
    "    Parameters:\n",
    "    \n",
    "    ids -> A numerical id for the grids that should be read\n",
    "    '''\n",
    "    \n",
    "    gdfs = []\n",
    "    \n",
    "    gdf = gpd.read_file(f\"zip://../../data/brazil/grade/zip/grade_id{id_}.zip\")\n",
    "        \n",
    "    return gdf\n",
    "        "
   ]
  },
  {
   "cell_type": "code",
   "execution_count": 3,
   "id": "5c09144a",
   "metadata": {},
   "outputs": [],
   "source": [
    "def main():\n",
    "    \n",
    "    # All ids\n",
    "    files = glob.glob(\"../../data/brazil/grade/zip/*.zip\")\n",
    "    \n",
    "    # Regex pattern\n",
    "    pattern = \"(\\d\\d)\"\n",
    "    \n",
    "    # Extract ids\n",
    "    ids = [ re.search(pattern, file).group(1) for file in files]\n",
    "            \n",
    "    for id_ in ids:\n",
    "        \n",
    "        print(f\"Processing file {id_}\".ljust(40), end = '\\r')\n",
    "        \n",
    "        # Read grid\n",
    "        gdf = read_grid(id_)\n",
    "\n",
    "        # Save as feather\n",
    "        gdf.to_feather(f\"../../data/brazil/grade/feather/{id_}.feather\")"
   ]
  },
  {
   "cell_type": "code",
   "execution_count": 4,
   "id": "714ef03e",
   "metadata": {},
   "outputs": [
    {
     "name": "stdout",
     "output_type": "stream",
     "text": [
      "Processing file 35                      \r"
     ]
    }
   ],
   "source": [
    "if __name__ == \"__main__\":\n",
    "    main()"
   ]
  }
 ],
 "metadata": {
  "kernelspec": {
   "display_name": "Python 3 (ipykernel)",
   "language": "python",
   "name": "python3"
  },
  "language_info": {
   "codemirror_mode": {
    "name": "ipython",
    "version": 3
   },
   "file_extension": ".py",
   "mimetype": "text/x-python",
   "name": "python",
   "nbconvert_exporter": "python",
   "pygments_lexer": "ipython3",
   "version": "3.7.11"
  }
 },
 "nbformat": 4,
 "nbformat_minor": 5
}
