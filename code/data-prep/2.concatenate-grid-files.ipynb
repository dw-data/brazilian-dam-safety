{
 "cells": [
  {
   "cell_type": "markdown",
   "id": "ecb49ce5",
   "metadata": {},
   "source": [
    "For convenience and easier access, we will merge all the statistical grid files into a single one. We will save one file with all the entries and one that keeps only populated entries."
   ]
  },
  {
   "cell_type": "code",
   "execution_count": 1,
   "id": "c199e1f0",
   "metadata": {},
   "outputs": [],
   "source": [
    "import geopandas as gpd\n",
    "import glob\n",
    "import pandas as pd\n",
    "import warnings; warnings.filterwarnings('ignore', message='.*initial implementation of Parquet.*')"
   ]
  },
  {
   "cell_type": "code",
   "execution_count": 5,
   "id": "1aa732c2",
   "metadata": {},
   "outputs": [],
   "source": [
    "def main():\n",
    "    \n",
    "    files = glob.glob(\"../../data/brazil/grade/feather/*.feather\")\n",
    "    \n",
    "    gdfs = []\n",
    "    \n",
    "    for file in files:\n",
    "        gdf = gpd.read_feather(file)\n",
    "        gdfs.append(gdf)\n",
    "        \n",
    "    gdfs = pd.concat(gdfs)\n",
    "    gdfs.to_feather(\"../../data/brazil/grade/feather/concatenated/all.feather\")\n",
    "    \n",
    "    gdfs = gdfs[gdfs.POP > 0].reset_index()\n",
    "    gdfs.to_feather(\"../../data/brazil/grade/feather/concatenated/populated.feather\")"
   ]
  },
  {
   "cell_type": "code",
   "execution_count": 6,
   "id": "5cef34c8",
   "metadata": {},
   "outputs": [],
   "source": [
    "if __name__ == '__main__':\n",
    "    main()"
   ]
  }
 ],
 "metadata": {
  "kernelspec": {
   "display_name": "Python 3 (ipykernel)",
   "language": "python",
   "name": "python3"
  },
  "language_info": {
   "codemirror_mode": {
    "name": "ipython",
    "version": 3
   },
   "file_extension": ".py",
   "mimetype": "text/x-python",
   "name": "python",
   "nbconvert_exporter": "python",
   "pygments_lexer": "ipython3",
   "version": "3.7.11"
  }
 },
 "nbformat": 4,
 "nbformat_minor": 5
}
